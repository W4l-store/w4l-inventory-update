{
 "cells": [
  {
   "cell_type": "code",
   "execution_count": 4,
   "metadata": {},
   "outputs": [],
   "source": [
    "import requests\n",
    "import json\n",
    "import time\n",
    "import gzip\n",
    "import base64\n",
    "import pandas as pd\n",
    "from cryptography.hazmat.primitives.ciphers import Cipher, algorithms, modes\n",
    "from cryptography.hazmat.primitives import padding\n",
    "from cryptography.hazmat.backends import default_backend\n",
    "import logging\n",
    "from dotenv import load_dotenv\n",
    "import os\n",
    "\n",
    "# Configure logging\n",
    "logging.basicConfig(level=logging.INFO)\n",
    "logger = logging.getLogger(__name__)\n",
    "\n",
    "# Constants\n",
    "ENDPOINT = \"https://sellingpartnerapi-na.amazon.com\"\n",
    "API_VERSION = \"2020-09-04\""
   ]
  },
  {
   "cell_type": "code",
   "execution_count": 10,
   "metadata": {},
   "outputs": [],
   "source": [
    "def request_report(access_token, report_type, marketplace_id):\n",
    "    \"\"\"\n",
    "    Request a report and return the report_id.\n",
    "    \"\"\"\n",
    "    try:\n",
    "        response = requests.post(\n",
    "            f\"{ENDPOINT}/reports/{API_VERSION}/reports\",\n",
    "            headers={\n",
    "                \"x-amz-access-token\": access_token,\n",
    "                \"Content-Type\": \"application/json\",\n",
    "            },\n",
    "            json={\n",
    "                \"reportType\": report_type,\n",
    "                \"marketplaceIds\": [marketplace_id],\n",
    "            },\n",
    "        )\n",
    "        print(json.dumps(response.json(), indent=2))\n",
    "\n",
    "        response.raise_for_status()\n",
    "        return response.json()[\"payload\"][\"reportId\"]\n",
    "    except requests.RequestException as e:\n",
    "        logger.error(f\"Failed to request report: {e}\")\n",
    "        raise\n"
   ]
  },
  {
   "cell_type": "code",
   "execution_count": 9,
   "metadata": {},
   "outputs": [
    {
     "name": "stderr",
     "output_type": "stream",
     "text": [
      "ERROR:__main__:Failed to request report: 403 Client Error:  for url: https://sellingpartnerapi-na.amazon.com/reports/2020-09-04/reports\n"
     ]
    },
    {
     "name": "stdout",
     "output_type": "stream",
     "text": [
      "{'errors': [{'code': 'Unauthorized', 'message': 'Access to requested resource is denied.', 'details': ''}]}\n"
     ]
    },
    {
     "ename": "HTTPError",
     "evalue": "403 Client Error:  for url: https://sellingpartnerapi-na.amazon.com/reports/2020-09-04/reports",
     "output_type": "error",
     "traceback": [
      "\u001b[0;31m---------------------------------------------------------------------------\u001b[0m",
      "\u001b[0;31mHTTPError\u001b[0m                                 Traceback (most recent call last)",
      "Cell \u001b[0;32mIn[9], line 6\u001b[0m\n\u001b[1;32m      2\u001b[0m report_type \u001b[38;5;241m=\u001b[39m \u001b[38;5;124m\"\u001b[39m\u001b[38;5;124mGET_MERCHANT_LISTINGS_DATA_BACK_COMPAT\u001b[39m\u001b[38;5;124m\"\u001b[39m\n\u001b[1;32m      4\u001b[0m marketplace_id \u001b[38;5;241m=\u001b[39m\u001b[38;5;124m\"\u001b[39m\u001b[38;5;124mATVPDKIKX0DER\u001b[39m\u001b[38;5;124m\"\u001b[39m\n\u001b[0;32m----> 6\u001b[0m \u001b[43mrequest_report\u001b[49m\u001b[43m(\u001b[49m\u001b[43maccess_token\u001b[49m\u001b[43m,\u001b[49m\u001b[43m \u001b[49m\u001b[43mreport_type\u001b[49m\u001b[43m,\u001b[49m\u001b[43m \u001b[49m\u001b[43mmarketplace_id\u001b[49m\u001b[43m)\u001b[49m\n",
      "Cell \u001b[0;32mIn[8], line 19\u001b[0m, in \u001b[0;36mrequest_report\u001b[0;34m(access_token, report_type, marketplace_id)\u001b[0m\n\u001b[1;32m      6\u001b[0m     response \u001b[38;5;241m=\u001b[39m requests\u001b[38;5;241m.\u001b[39mpost(\n\u001b[1;32m      7\u001b[0m         \u001b[38;5;124mf\u001b[39m\u001b[38;5;124m\"\u001b[39m\u001b[38;5;132;01m{\u001b[39;00mENDPOINT\u001b[38;5;132;01m}\u001b[39;00m\u001b[38;5;124m/reports/\u001b[39m\u001b[38;5;132;01m{\u001b[39;00mAPI_VERSION\u001b[38;5;132;01m}\u001b[39;00m\u001b[38;5;124m/reports\u001b[39m\u001b[38;5;124m\"\u001b[39m,\n\u001b[1;32m      8\u001b[0m         headers\u001b[38;5;241m=\u001b[39m{\n\u001b[0;32m   (...)\u001b[0m\n\u001b[1;32m     15\u001b[0m         },\n\u001b[1;32m     16\u001b[0m     )\n\u001b[1;32m     17\u001b[0m     \u001b[38;5;28mprint\u001b[39m(response\u001b[38;5;241m.\u001b[39mjson())\n\u001b[0;32m---> 19\u001b[0m     \u001b[43mresponse\u001b[49m\u001b[38;5;241;43m.\u001b[39;49m\u001b[43mraise_for_status\u001b[49m\u001b[43m(\u001b[49m\u001b[43m)\u001b[49m\n\u001b[1;32m     20\u001b[0m     \u001b[38;5;28;01mreturn\u001b[39;00m response\u001b[38;5;241m.\u001b[39mjson()[\u001b[38;5;124m\"\u001b[39m\u001b[38;5;124mpayload\u001b[39m\u001b[38;5;124m\"\u001b[39m][\u001b[38;5;124m\"\u001b[39m\u001b[38;5;124mreportId\u001b[39m\u001b[38;5;124m\"\u001b[39m]\n\u001b[1;32m     21\u001b[0m \u001b[38;5;28;01mexcept\u001b[39;00m requests\u001b[38;5;241m.\u001b[39mRequestException \u001b[38;5;28;01mas\u001b[39;00m e:\n",
      "File \u001b[0;32m~/My Files/Dev/w4l-inventory-update/venv/lib/python3.11/site-packages/requests/models.py:1024\u001b[0m, in \u001b[0;36mResponse.raise_for_status\u001b[0;34m(self)\u001b[0m\n\u001b[1;32m   1019\u001b[0m     http_error_msg \u001b[38;5;241m=\u001b[39m (\n\u001b[1;32m   1020\u001b[0m         \u001b[38;5;124mf\u001b[39m\u001b[38;5;124m\"\u001b[39m\u001b[38;5;132;01m{\u001b[39;00m\u001b[38;5;28mself\u001b[39m\u001b[38;5;241m.\u001b[39mstatus_code\u001b[38;5;132;01m}\u001b[39;00m\u001b[38;5;124m Server Error: \u001b[39m\u001b[38;5;132;01m{\u001b[39;00mreason\u001b[38;5;132;01m}\u001b[39;00m\u001b[38;5;124m for url: \u001b[39m\u001b[38;5;132;01m{\u001b[39;00m\u001b[38;5;28mself\u001b[39m\u001b[38;5;241m.\u001b[39murl\u001b[38;5;132;01m}\u001b[39;00m\u001b[38;5;124m\"\u001b[39m\n\u001b[1;32m   1021\u001b[0m     )\n\u001b[1;32m   1023\u001b[0m \u001b[38;5;28;01mif\u001b[39;00m http_error_msg:\n\u001b[0;32m-> 1024\u001b[0m     \u001b[38;5;28;01mraise\u001b[39;00m HTTPError(http_error_msg, response\u001b[38;5;241m=\u001b[39m\u001b[38;5;28mself\u001b[39m)\n",
      "\u001b[0;31mHTTPError\u001b[0m: 403 Client Error:  for url: https://sellingpartnerapi-na.amazon.com/reports/2020-09-04/reports"
     ]
    }
   ],
   "source": [
    "access_token = \"Atza|IwEBIFB-gJlWPQw4B3GIjk0eYwCt_ZgG3EsTgKh9Vxwpn91-Ffe04ccYDA-UbnbPYK99u2Pud3R_gTaEQ-qsYwhWPATBCyTHeBm5V7CR1AlVKVmZbIjw7ul8Asd6Mhap-ID7i8O396EOQoUTY_cN30OPPVf5Gq_p6tbtyIq-4tt9DrD-8GPEnLxEuxLoLDjJK17Y_gXRwUOfnE_Ai0rMkz9gRED_GFn4_M84xAZ55lAQarNE8f7TL7OH30SsWoyf3IVtbCSDKKmOX95itG7zrK3zss7_ui1dtKnEMcBe1Th1Cr5aDC8_fZ29-YY683uKokNtRaJROic2WmNtStMPPQxYjjOt', 'refresh_token': 'Atzr|IwEBIF_iH3kTYfiUuniuFnloLNL6hN3db9QC1amwIJncP62QHLxdfpbmbqnLI1Bk8S53ZsET0WmRFkSWDKUa8CUCoquUsUs1xp1FxbfcNIql_mAdkIU8oUrjbsHnfXMDyhDo_SshdX0iMGb3z1YzYNsNJozHfgZdEGgNbUHKQHnCmTQqsrLesbews9IF3o2mcP32pnsaK51W7nqgjSNSjedRsi2XE5vNNdM63Y5yD2ab2_Pa2H4yxEp70hjn2SwBt8y9nuYty0SjZaW8J9Kj1-yn6zGu1BOPb7xIWGt_ndd-7urhp36zF6xFYtRSpA6sljWuOpE\"\n",
    "report_type = \"GET_MERCHANT_LISTINGS_ALL_DATA\"\n",
    "\n",
    "marketplace_id =\"ATVPDKIKX0DER\"\n",
    "\n",
    "request_report(access_token, report_type, marketplace_id)"
   ]
  }
 ],
 "metadata": {
  "kernelspec": {
   "display_name": "venv",
   "language": "python",
   "name": "python3"
  },
  "language_info": {
   "codemirror_mode": {
    "name": "ipython",
    "version": 3
   },
   "file_extension": ".py",
   "mimetype": "text/x-python",
   "name": "python",
   "nbconvert_exporter": "python",
   "pygments_lexer": "ipython3",
   "version": "3.11.7"
  }
 },
 "nbformat": 4,
 "nbformat_minor": 2
}
