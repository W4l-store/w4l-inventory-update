{
 "cells": [
  {
   "cell_type": "code",
   "execution_count": 141,
   "metadata": {},
   "outputs": [],
   "source": [
    "import pandas as pd\n",
    "\n",
    "import json\n",
    "# data/Amazon Import - 01.xlsx - import .xlsx file \n"
   ]
  },
  {
   "cell_type": "code",
   "execution_count": 124,
   "metadata": {},
   "outputs": [],
   "source": [
    "# import chardet\n",
    "\n",
    "# def find_encoding(fname):\n",
    "#     r_file = open(fname, 'rb').read()\n",
    "#     result = chardet.detect(r_file)\n",
    "#     return result['encoding']\n",
    "\n",
    "# encoding = find_encoding('data/All_Listings_Report_US.txt')\n",
    "# print(encoding)"
   ]
  },
  {
   "cell_type": "code",
   "execution_count": 125,
   "metadata": {},
   "outputs": [
    {
     "name": "stdout",
     "output_type": "stream",
     "text": [
      "Index(['seller_sku', 'ASIN_US', 'status_US', 'fulfillment_US', 'ASIN_CA',\n",
      "       'status_CA', 'fulfillment_CA', 'ASIN_MX', 'status_MX', 'fulfillment_MX',\n",
      "       'BS_SKU', 'B_SKU', 'B_NZ_SKU'],\n",
      "      dtype='object')\n",
      "Index(['CODE', 'NAME', 'SIZE', 'Unnamed: 3', 'Unnamed: 4', 'O-H', 'COM', 'B-O',\n",
      "       'P-O', 'AVAIL', 'PROD TYPE'],\n",
      "      dtype='object')\n"
     ]
    }
   ],
   "source": [
    "\n",
    "all_listings_mapping_NA = pd.read_csv('data/all_listings_mapping_NA.csv', dtype=str)\n",
    "BS_export_df = pd.read_csv('data/STOCK-STATUS202407098.952568.TXT', sep='\\t', encoding='ascii', skiprows=2, dtype=str)\n",
    "\n",
    "print(all_listings_mapping_NA.columns)\n",
    "print(BS_export_df.columns)"
   ]
  },
  {
   "cell_type": "code",
   "execution_count": null,
   "metadata": {},
   "outputs": [],
   "source": []
  },
  {
   "cell_type": "markdown",
   "metadata": {},
   "source": [
    "# Tasks: \n",
    "1. create a mapping file for BS file \n",
    "2. check is NAME column consistently match with SIZE column "
   ]
  },
  {
   "cell_type": "code",
   "execution_count": 1,
   "metadata": {},
   "outputs": [
    {
     "ename": "ModuleNotFoundError",
     "evalue": "No module named 'sku_to_qtt_map_generator'",
     "output_type": "error",
     "traceback": [
      "\u001b[0;31m---------------------------------------------------------------------------\u001b[0m",
      "\u001b[0;31mModuleNotFoundError\u001b[0m                       Traceback (most recent call last)",
      "Cell \u001b[0;32mIn[1], line 1\u001b[0m\n\u001b[0;32m----> 1\u001b[0m \u001b[38;5;28;01mfrom\u001b[39;00m \u001b[38;5;21;01msku_to_qtt_map_generator\u001b[39;00m \u001b[38;5;28;01mimport\u001b[39;00m BS_file_to_QT_map\n\u001b[1;32m      4\u001b[0m sku_avail_map \u001b[38;5;241m=\u001b[39m BS_file_to_QT_map(BS_export_df)\n\u001b[1;32m      8\u001b[0m \u001b[38;5;28mprint\u001b[39m(sku_avail_map)\n",
      "\u001b[0;31mModuleNotFoundError\u001b[0m: No module named 'sku_to_qtt_map_generator'"
     ]
    }
   ],
   "source": [
    "\n",
    "\n",
    "sku_avail_map = BS_file_to_QT_map(BS_export_df)\n",
    "\n",
    "\n",
    "\n",
    "print(sku_avail_map)\n",
    "\n",
    "# save to json\n",
    "with open('results/sku_avail_map.json', 'w') as f:\n",
    "    json.dump(sku_avail_map, f)"
   ]
  },
  {
   "cell_type": "code",
   "execution_count": 127,
   "metadata": {},
   "outputs": [],
   "source": [
    "\n",
    "\n",
    "# BS_export_df = BS_export_df[['CODE', 'NAME', 'SIZE', 'Unnamed: 3', 'AVAIL', 'PROD TYPE']].copy()\n",
    "# BS_export_df.columns = ['SKU', 'NAME', 'SIZE1', 'SIZE2', 'AVAIL', 'PROD TYPE']\n",
    "# #strip all columns\n",
    "# BS_export_df = BS_export_df.apply(lambda x: x.str.strip() if x.dtype == \"object\" else x)\n",
    "# BS_export_df['PROD TYPE'] = BS_export_df['PROD TYPE'].str.replace(\"     00\", \"\")\n",
    "# print(BS_export_df.head())"
   ]
  },
  {
   "cell_type": "code",
   "execution_count": 128,
   "metadata": {},
   "outputs": [
    {
     "name": "stdout",
     "output_type": "stream",
     "text": [
      "{'B48-29     00', 'B48-09     00', 'EA5256     00', '26535P     00', '921-27     00', 'EA3404     00', '926-29     00', 'EA2658     00', 'EA3804     00', 'B48-08     00', '9004603    00', 'EA3201     00', 'EA2647     00', 'EA2801     00', 'B48-24     00', 'EA3091     00', '93465-1    00', 'B48-21     00', '111-00     00', '93943-1    00', 'EA2664     00', '703539     00', 'EA5705     00', 'EA2657     00', 'EA5093     00', '111-18     00', 'EA2110     00', 'EA5201     00', 'EA2646     00', 'CC800BPM   00', 'EA5403     00', '926-19     00', 'B48-19     00', '703600     00', 'EA2750     00', 'EA5100     00', 'EA2652     00', 'EA5101     00', '9004593    00', '926-27     00', 'EA5204     00', '921-17     00', 'B48-27     00', '703522     00', 'EA5104     00', 'EA2703     00', 'EA2660     00', '9346-51    00', 'EA3664     00', 'EA6303     00', '522973     00', 'EA2662     00', 'EA2701     00', 'B48-18     00', 'EA3252     00', '921-30     00', 'EA0018     00', '111-19     00', nan, '111-27     00', '926-17     00', '926-30     00', 'EA5250     00', '93826-1    00', 'EA5206     00', 'EA0004     00', 'EA3303     00', 'EA5400     00', 'EA5106     00', '926-26     00', 'EA2651     00', '703608     00', 'EA5252     00', 'EA2665     00', 'EA3102     00', 'EA3301     00', 'EA5305     00', 'B48-28     00', 'EA0002     00', '926-21     00', '921-18     00', 'EA2661     00', 'EA2655     00', '703603     00', 'PE9465SE   00', '9382-61    00', 'B48-00     00', '26514P     00', '9394-31    00', '9004599    00', '703607     00', 'EA2663     00', 'EA3202     00', 'EA5500     00', '703599     00', 'B48-17     00', 'EA5105     00', 'EA2804     00', '93929-1    00', '926-18     00', '357292     00', '26581P     00', '921-29     00', 'EA3101     00', 'EA3647     00', 'EA0008     00', 'EA5503     00', '921-26     00', '54267      00', 'B48-26     00', '111-26     00', 'EA3203     00', 'ANY2173B   00', 'B48-20     00', 'EA3104     00', 'EA5200     00', 'EA5102     00', 'EA3093     00', 'EA3644     00', 'EA5091     00', 'EA0012     00', '921-21     00', '111-29     00', 'EA5605     00', 'EA3661     00', '2311-2     00', 'EA2650     00', 'EA2667     00', 'PE9463PE   00', 'EA3403     00', 'EA5254     00', '921-00     00', 'EA2803     00', 'EA5251     00', 'EA2702     00', 'EA5903     00', '703605     00', 'EA3103     00', 'EA3703     00', 'EA2700     00', '111-21     00', '921-19     00', '9004601    00', 'EA0052     00', 'EA5700     00', '9004589    00', '111-30     00', '703602     00', 'B48-11     00', '9004597    00', '9004591    00', 'EA5253     00', 'EA2653     00', '111-17     00', 'B48-05     00', '926-00     00', 'EA5505     00', 'EA2648     00', 'EA2644     00', 'EA5202     00', 'B48-30     00', 'B48-10     00', 'EA3401     00', 'EA0058     00', '9004595    00', '9392-91    00', 'EA3251     00', 'EA3204     00', 'EA3802     00', 'EA5205     00', '703604     00', '703601     00', '9004587    00', 'EA3701     00', 'EA5600     00', 'EA3304     00', 'EA5603     00', 'EA3402     00', 'EA3302     00', 'EA5255     00', 'EA2802     00'}\n"
     ]
    }
   ],
   "source": [
    "prod_type = BS_export_df['PROD TYPE'].to_list()\n",
    "\n",
    "print(set(prod_type))\n"
   ]
  },
  {
   "cell_type": "code",
   "execution_count": 129,
   "metadata": {},
   "outputs": [
    {
     "ename": "KeyError",
     "evalue": "'SKU'",
     "output_type": "error",
     "traceback": [
      "\u001b[0;31m---------------------------------------------------------------------------\u001b[0m",
      "\u001b[0;31mKeyError\u001b[0m                                  Traceback (most recent call last)",
      "File \u001b[0;32m~/My Files/Dev/w4l-inventory-update/venv/lib/python3.11/site-packages/pandas/core/indexes/base.py:3805\u001b[0m, in \u001b[0;36mIndex.get_loc\u001b[0;34m(self, key)\u001b[0m\n\u001b[1;32m   3804\u001b[0m \u001b[38;5;28;01mtry\u001b[39;00m:\n\u001b[0;32m-> 3805\u001b[0m     \u001b[38;5;28;01mreturn\u001b[39;00m \u001b[38;5;28;43mself\u001b[39;49m\u001b[38;5;241;43m.\u001b[39;49m\u001b[43m_engine\u001b[49m\u001b[38;5;241;43m.\u001b[39;49m\u001b[43mget_loc\u001b[49m\u001b[43m(\u001b[49m\u001b[43mcasted_key\u001b[49m\u001b[43m)\u001b[49m\n\u001b[1;32m   3806\u001b[0m \u001b[38;5;28;01mexcept\u001b[39;00m \u001b[38;5;167;01mKeyError\u001b[39;00m \u001b[38;5;28;01mas\u001b[39;00m err:\n",
      "File \u001b[0;32mindex.pyx:167\u001b[0m, in \u001b[0;36mpandas._libs.index.IndexEngine.get_loc\u001b[0;34m()\u001b[0m\n",
      "File \u001b[0;32mindex.pyx:196\u001b[0m, in \u001b[0;36mpandas._libs.index.IndexEngine.get_loc\u001b[0;34m()\u001b[0m\n",
      "File \u001b[0;32mpandas/_libs/hashtable_class_helper.pxi:7081\u001b[0m, in \u001b[0;36mpandas._libs.hashtable.PyObjectHashTable.get_item\u001b[0;34m()\u001b[0m\n",
      "File \u001b[0;32mpandas/_libs/hashtable_class_helper.pxi:7089\u001b[0m, in \u001b[0;36mpandas._libs.hashtable.PyObjectHashTable.get_item\u001b[0;34m()\u001b[0m\n",
      "\u001b[0;31mKeyError\u001b[0m: 'SKU'",
      "\nThe above exception was the direct cause of the following exception:\n",
      "\u001b[0;31mKeyError\u001b[0m                                  Traceback (most recent call last)",
      "Cell \u001b[0;32mIn[129], line 1\u001b[0m\n\u001b[0;32m----> 1\u001b[0m SKU_list \u001b[38;5;241m=\u001b[39m \u001b[43mBS_export_df\u001b[49m\u001b[43m[\u001b[49m\u001b[38;5;124;43m'\u001b[39;49m\u001b[38;5;124;43mSKU\u001b[39;49m\u001b[38;5;124;43m'\u001b[39;49m\u001b[43m]\u001b[49m\u001b[38;5;241m.\u001b[39mto_list()\n\u001b[1;32m      3\u001b[0m \u001b[38;5;66;03m# finde unique cheracters from all strings in SKU_list\u001b[39;00m\n\u001b[1;32m      4\u001b[0m \u001b[38;5;66;03m# unique_chars = set(''.join(SKU_list))\u001b[39;00m\n\u001b[1;32m      5\u001b[0m \u001b[38;5;66;03m# print(unique_chars)\u001b[39;00m\n\u001b[1;32m      6\u001b[0m \n\u001b[1;32m      7\u001b[0m \u001b[38;5;66;03m# fulter sku list for sku what contsin \"-\"\u001b[39;00m\n\u001b[1;32m      8\u001b[0m SKU_list \u001b[38;5;241m=\u001b[39m [sku \u001b[38;5;28;01mfor\u001b[39;00m sku \u001b[38;5;129;01min\u001b[39;00m SKU_list \u001b[38;5;28;01mif\u001b[39;00m \u001b[38;5;124m\"\u001b[39m\u001b[38;5;124m-\u001b[39m\u001b[38;5;124m\"\u001b[39m \u001b[38;5;129;01min\u001b[39;00m sku]\n",
      "File \u001b[0;32m~/My Files/Dev/w4l-inventory-update/venv/lib/python3.11/site-packages/pandas/core/frame.py:4102\u001b[0m, in \u001b[0;36mDataFrame.__getitem__\u001b[0;34m(self, key)\u001b[0m\n\u001b[1;32m   4100\u001b[0m \u001b[38;5;28;01mif\u001b[39;00m \u001b[38;5;28mself\u001b[39m\u001b[38;5;241m.\u001b[39mcolumns\u001b[38;5;241m.\u001b[39mnlevels \u001b[38;5;241m>\u001b[39m \u001b[38;5;241m1\u001b[39m:\n\u001b[1;32m   4101\u001b[0m     \u001b[38;5;28;01mreturn\u001b[39;00m \u001b[38;5;28mself\u001b[39m\u001b[38;5;241m.\u001b[39m_getitem_multilevel(key)\n\u001b[0;32m-> 4102\u001b[0m indexer \u001b[38;5;241m=\u001b[39m \u001b[38;5;28;43mself\u001b[39;49m\u001b[38;5;241;43m.\u001b[39;49m\u001b[43mcolumns\u001b[49m\u001b[38;5;241;43m.\u001b[39;49m\u001b[43mget_loc\u001b[49m\u001b[43m(\u001b[49m\u001b[43mkey\u001b[49m\u001b[43m)\u001b[49m\n\u001b[1;32m   4103\u001b[0m \u001b[38;5;28;01mif\u001b[39;00m is_integer(indexer):\n\u001b[1;32m   4104\u001b[0m     indexer \u001b[38;5;241m=\u001b[39m [indexer]\n",
      "File \u001b[0;32m~/My Files/Dev/w4l-inventory-update/venv/lib/python3.11/site-packages/pandas/core/indexes/base.py:3812\u001b[0m, in \u001b[0;36mIndex.get_loc\u001b[0;34m(self, key)\u001b[0m\n\u001b[1;32m   3807\u001b[0m     \u001b[38;5;28;01mif\u001b[39;00m \u001b[38;5;28misinstance\u001b[39m(casted_key, \u001b[38;5;28mslice\u001b[39m) \u001b[38;5;129;01mor\u001b[39;00m (\n\u001b[1;32m   3808\u001b[0m         \u001b[38;5;28misinstance\u001b[39m(casted_key, abc\u001b[38;5;241m.\u001b[39mIterable)\n\u001b[1;32m   3809\u001b[0m         \u001b[38;5;129;01mand\u001b[39;00m \u001b[38;5;28many\u001b[39m(\u001b[38;5;28misinstance\u001b[39m(x, \u001b[38;5;28mslice\u001b[39m) \u001b[38;5;28;01mfor\u001b[39;00m x \u001b[38;5;129;01min\u001b[39;00m casted_key)\n\u001b[1;32m   3810\u001b[0m     ):\n\u001b[1;32m   3811\u001b[0m         \u001b[38;5;28;01mraise\u001b[39;00m InvalidIndexError(key)\n\u001b[0;32m-> 3812\u001b[0m     \u001b[38;5;28;01mraise\u001b[39;00m \u001b[38;5;167;01mKeyError\u001b[39;00m(key) \u001b[38;5;28;01mfrom\u001b[39;00m \u001b[38;5;21;01merr\u001b[39;00m\n\u001b[1;32m   3813\u001b[0m \u001b[38;5;28;01mexcept\u001b[39;00m \u001b[38;5;167;01mTypeError\u001b[39;00m:\n\u001b[1;32m   3814\u001b[0m     \u001b[38;5;66;03m# If we have a listlike key, _check_indexing_error will raise\u001b[39;00m\n\u001b[1;32m   3815\u001b[0m     \u001b[38;5;66;03m#  InvalidIndexError. Otherwise we fall through and re-raise\u001b[39;00m\n\u001b[1;32m   3816\u001b[0m     \u001b[38;5;66;03m#  the TypeError.\u001b[39;00m\n\u001b[1;32m   3817\u001b[0m     \u001b[38;5;28mself\u001b[39m\u001b[38;5;241m.\u001b[39m_check_indexing_error(key)\n",
      "\u001b[0;31mKeyError\u001b[0m: 'SKU'"
     ]
    }
   ],
   "source": [
    "SKU_list = BS_export_df['SKU'].to_list()\n",
    "\n",
    "# finde unique cheracters from all strings in SKU_list\n",
    "# unique_chars = set(''.join(SKU_list))\n",
    "# print(unique_chars)\n",
    "\n",
    "# fulter sku list for sku what contsin \"-\"\n",
    "SKU_list = [sku for sku in SKU_list if \"-\" in sku]\n",
    "\n",
    "print(len(SKU_list))\n",
    "\n",
    "# remuve \"-\" from SKUs \n",
    "SKU_list = [sku.replace(\"-\", \"\") for sku in SKU_list]\n",
    "\n",
    "#finde unique skus and not unique skus\n",
    "unique_SKUs = set(SKU_list)\n",
    "not_unique_SKUs = [sku for sku in SKU_list if SKU_list.count(sku) > 1]\n",
    "print(len(unique_SKUs))\n",
    "print(len(not_unique_SKUs))\n",
    "\n",
    "print(not_unique_SKUs)\n",
    "\n",
    "\n",
    "\n",
    "\n"
   ]
  },
  {
   "cell_type": "code",
   "execution_count": null,
   "metadata": {},
   "outputs": [],
   "source": [
    "\n",
    "\n",
    "# # задача. Проверить для каждого уникального NAME является ли SIZE1 одинаковым для этого NAME \n",
    "\n",
    "# unique_names = BS_export_df['NAME'].unique().tolist()\n",
    "# # print(len(unique_names))\n",
    "# result =[]\n",
    "# column =\"SIZE1\"\n",
    "# for name in unique_names:\n",
    "#     df = BS_export_df[BS_export_df['NAME'] == name]\n",
    "#     if not df[column].mode().empty:\n",
    "#         most_common_value = df[column].mode()[0]\n",
    "#         result.append([name, most_common_value])\n",
    "\n",
    "# #save to csv \n",
    "\n",
    "# result_df = pd.DataFrame(result, columns=['NAME', column])\n",
    "# result_df.to_csv(f'results/name-{column}.csv', index=False)\n",
    "   \n",
    "\n"
   ]
  },
  {
   "cell_type": "code",
   "execution_count": null,
   "metadata": {},
   "outputs": [],
   "source": [
    "\n"
   ]
  }
 ],
 "metadata": {
  "kernelspec": {
   "display_name": "venv",
   "language": "python",
   "name": "python3"
  },
  "language_info": {
   "codemirror_mode": {
    "name": "ipython",
    "version": 3
   },
   "file_extension": ".py",
   "mimetype": "text/x-python",
   "name": "python",
   "nbconvert_exporter": "python",
   "pygments_lexer": "ipython3",
   "version": "3.11.7"
  }
 },
 "nbformat": 4,
 "nbformat_minor": 2
}
