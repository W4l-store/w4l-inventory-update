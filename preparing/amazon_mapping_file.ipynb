{
 "cells": [
  {
   "cell_type": "code",
   "execution_count": 54,
   "metadata": {},
   "outputs": [],
   "source": [
    "import pandas as pd\n",
    "\n",
    "# data/Amazon Import - 01.xlsx - import .xlsx file \n"
   ]
  },
  {
   "cell_type": "code",
   "execution_count": 55,
   "metadata": {},
   "outputs": [],
   "source": [
    "# import chardet\n",
    "\n",
    "# def find_encoding(fname):\n",
    "#     r_file = open(fname, 'rb').read()\n",
    "#     result = chardet.detect(r_file)\n",
    "#     return result['encoding']\n",
    "\n",
    "# encoding = find_encoding('data/All_Listings_Report_US.txt')\n",
    "# print(encoding)"
   ]
  },
  {
   "cell_type": "code",
   "execution_count": 56,
   "metadata": {},
   "outputs": [
    {
     "name": "stdout",
     "output_type": "stream",
     "text": [
      "import_df_MT columns:  Index(['FIXED FOR LOOKUP', 'seller-sku', 'Sku No Underscore', 'SKU (FINAL)',\n",
      "       'Type', 'Product', 'Product NZ', 'Marketplace Source', 'File',\n",
      "       'Done By', 'Sku (FINAL) FIXED'],\n",
      "      dtype='object') \n",
      "\n"
     ]
    }
   ],
   "source": [
    "\n",
    "import_df_MT = pd.read_excel('data/Amazon Import - 01.xlsx', sheet_name='Master Sku Translation', dtype=str)\n",
    "# save import_df_MT to csv\n",
    "import_df_MT.to_csv('data/import_df_MT.csv', index=False)\n",
    "\n",
    "all_listings_US  = pd.read_csv('data/All_Listings_Report_US.txt', sep='\\t', encoding='UTF-8-SIG', dtype=str)\n",
    "all_listings_CA = pd.read_csv('data/All_Listings_Report_CA.txt', sep='\\t', encoding='UTF-8-SIG', dtype=str)\n",
    "all_listings_MX = pd.read_csv('data/All_Listings_Report_MX.txt', sep='\\t', encoding='UTF-8-SIG', dtype=str)\n",
    "\n",
    "BS_export_df = pd.read_csv('data/STOCK-STATUS202407098.952568.TXT', sep='\\t', encoding='ascii', skiprows=2, dtype=str)\n",
    "\n",
    "#save BS_export_df to csv\n",
    "BS_export_df.to_csv('data/BS_export_df.csv', index=False)\n",
    "\n",
    "print(\"import_df_MT columns: \" , import_df_MT.columns,\"\\n\")\n",
    "# print(\"all_listings_US columns: \" , all_listings_US.columns,\"\\n\")\n",
    "# print(\"all_listings_CA columns: \" , all_listings_CA.columns,\"\\n\")\n",
    "# print(\"all_listings_MX columns: \" , all_listings_MX.columns,\"\\n\")\n",
    "# print(\"BS_export_df columns: \" , BS_export_df.columns,\"\\n\")\n",
    "\n",
    "all_listings_MX.to_csv('data/All_Listings_Report_MX.csv', index=False)\n",
    "\n",
    "\n",
    "# BS_sku_list = BS_export_df['CODE'].str.strip().tolist()\n"
   ]
  },
  {
   "cell_type": "code",
   "execution_count": 57,
   "metadata": {},
   "outputs": [],
   "source": [
    "\n",
    "def combine_all_listings_by_SKU_NA(us_df, ca_df, mx_df):\n",
    "    \"\"\"\n",
    "    This function combines product listings from the US, Canada, and Mexico into a single DataFrame.\n",
    "    Each country's DataFrame is processed to retain only the 'seller-sku', 'asin1', 'status', and 'fulfillment-channel' columns.\n",
    "    The columns are then renamed to indicate the country of origin.\n",
    "    The processed DataFrames are then merged on the 'seller_sku' column.\n",
    "\n",
    "    Parameters:\n",
    "    us_df (pandas.DataFrame): DataFrame containing product listings from the US.\n",
    "    ca_df (pandas.DataFrame): DataFrame containing product listings from Canada.\n",
    "    mx_df (pandas.DataFrame): DataFrame containing product listings from Mexico.\n",
    "\n",
    "    Returns:\n",
    "    result_df (pandas.DataFrame): A DataFrame containing the combined product listings. Each row represents a unique product listing.\n",
    "    The DataFrame contains the following columns: 'seller_sku', 'ASIN_US', 'status_US', 'fulfillment_US', 'ASIN_CA', 'status_CA', 'fulfillment_CA', 'ASIN_MX', 'status_MX', 'fulfillment_MX'.\n",
    "    \"\"\"\n",
    "\n",
    "    def process_country(df, country):\n",
    "        df = df[['seller-sku', 'asin1', 'status', 'fulfillment-channel']].copy()\n",
    "        df.columns = ['seller_sku', f'ASIN_{country}', f'status_{country}', f'fulfillment_{country}']\n",
    "        return df\n",
    "\n",
    "    dfs = [\n",
    "        process_country(us_df, 'US'),\n",
    "        process_country(ca_df, 'CA'),\n",
    "        process_country(mx_df, 'MX')\n",
    "    ]\n",
    "\n",
    "    result_df = dfs[0]\n",
    "    for df in dfs[1:]:\n",
    "        result_df = pd.merge(result_df, df, on='seller_sku', how='outer')\n",
    "\n",
    "    return result_df\n",
    "\n",
    "\n",
    "combined_df = combine_all_listings_by_SKU_NA(all_listings_US, all_listings_CA, all_listings_MX)\n",
    "\n",
    "# # Вывод первых нескольких строк результата\n",
    "# print(combined_df.head())\n",
    "\n",
    "# Сохранение результата в CSV файл в папке results\n",
    "combined_df.to_csv('results/combined_listings.csv', index=False)\n",
    "\n"
   ]
  },
  {
   "cell_type": "code",
   "execution_count": 58,
   "metadata": {},
   "outputs": [],
   "source": [
    "# clean up the data from import_df_MT \n",
    "amz_sku_mapping = import_df_MT[['seller-sku', 'SKU (FINAL)', 'Product','Product NZ']].copy()\n",
    "amz_sku_mapping = amz_sku_mapping.apply(lambda x: x.str.strip() if x.dtype == \"object\" else x)\n",
    "# rename columns to ['seller-sku', 'BS_SKU', 'B_SKU','B_NZ_SKU']\n",
    "amz_sku_mapping.columns = ['seller_sku', 'BS_SKU', 'B_SKU','B_NZ_SKU']\n",
    "\n",
    "# merge to combined_df\n",
    "final_NA_mapping = pd.merge(combined_df, amz_sku_mapping, on='seller_sku', how='left')\n",
    "\n",
    "#save final_NA_mapping to csv file\n",
    "\n",
    "final_NA_mapping.to_csv('results/final_NA_mapping.csv', index=False)\n"
   ]
  },
  {
   "cell_type": "code",
   "execution_count": 68,
   "metadata": {},
   "outputs": [],
   "source": [
    "import gspread\n",
    "from google.oauth2.service_account import Credentials\n",
    "\n",
    "def df_to_sheet_list(df):\n",
    "    df = df.fillna('')\n",
    "    df = [df.columns.values.tolist()] + df.values.tolist()\n",
    "    return df\n",
    "\n",
    "scopes = [\"https://www.googleapis.com/auth/spreadsheets\"]\n",
    "creds = Credentials.from_service_account_file(\"../credentials/sheets_api_cred.json\", scopes=scopes)\n",
    "client = gspread.authorize(creds)\n",
    "\n",
    "sheet_id = \"1ZMzIMn7CzV_tUJSfXguHYLh3fkkgHVh_0u2NBWCzEAQ\"\n",
    "workbook = client.open_by_key(sheet_id)\n",
    "\n",
    "worksheet_list = map(lambda x: x.title, workbook.worksheets())\n",
    "new_worksheet_name = \"final_NA_mapping\"\n",
    "\n",
    "if new_worksheet_name in worksheet_list:\n",
    "    sheet = workbook.worksheet(new_worksheet_name)\n",
    "else:\n",
    "    sheet = workbook.add_worksheet(new_worksheet_name, rows=10, cols=10)\n",
    "sheet.clear()\n",
    "\n",
    "def update_sheet_in_chunks(sheet, df, chunk_size=1000):\n",
    "    df_list = df_to_sheet_list(df)\n",
    "    for i in range(0, len(df_list), chunk_size):\n",
    "        chunk = df_list[i:i+chunk_size]\n",
    "        range_name = f'A{i+1}:Z{i+len(chunk)}'\n",
    "        sheet.update(chunk, range_name)\n",
    "\n",
    "update_sheet_in_chunks(sheet, final_NA_mapping)"
   ]
  },
  {
   "cell_type": "code",
   "execution_count": 66,
   "metadata": {},
   "outputs": [
    {
     "name": "stdout",
     "output_type": "stream",
     "text": [
      "[['seller_sku', 'ASIN_US', 'status_US', 'fulfillment_US', 'ASIN_CA', 'status_CA', 'fulfillment_CA', 'ASIN_MX', 'status_MX', 'fulfillment_MX', 'BS_SKU', 'B_SKU', 'B_NZ_SKU'], ['00-3UDR-PUQ3', 'B0088WNXBK', 'Active', 'DEFAULT', 'B0088WNXBK', 'Active', 'DEFAULT', 'B0088WNXBK', 'Active', 'DEFAULT', '', '', ''], ['00-ACLU-JCYV', 'B07S9FY2ML', 'Inactive', 'AMAZON_NA', 'B07S9FY2ML', 'Inactive', 'AMAZON_NA', 'B07S9FY2ML', 'Inactive', 'AMAZON_NA', '', '3025 BB A 6\"', '3025 BB A 6\"'], ['00-CD5D-G3U5', 'B008I6X302', 'Active', 'DEFAULT', 'B008I6X302', 'Active', 'DEFAULT', 'B008I6X302', 'Active', 'DEFAULT', '', '73987 HT', '73987 HT'], ['00-YASY-W9K8', 'B0088WNXA6', 'Active', 'DEFAULT', 'B0088WNXA6', 'Active', 'DEFAULT', 'B0088WNXA6', 'Active', 'DEFAULT', '', '3393 ZB BD', '3393 ZB BD']]\n"
     ]
    }
   ],
   "source": [
    "\n",
    "\n",
    "print(df_to_sheet_list(final_NA_mapping)[:5])"
   ]
  }
 ],
 "metadata": {
  "kernelspec": {
   "display_name": "venv",
   "language": "python",
   "name": "python3"
  },
  "language_info": {
   "codemirror_mode": {
    "name": "ipython",
    "version": 3
   },
   "file_extension": ".py",
   "mimetype": "text/x-python",
   "name": "python",
   "nbconvert_exporter": "python",
   "pygments_lexer": "ipython3",
   "version": "3.11.7"
  }
 },
 "nbformat": 4,
 "nbformat_minor": 2
}
