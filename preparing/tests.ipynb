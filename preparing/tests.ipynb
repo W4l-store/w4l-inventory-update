{
  "cells": [
    {
      "cell_type": "code",
      "execution_count": 3,
      "metadata": {},
      "outputs": [],
      "source": [
        "import os\n",
        "import pandas as pd\n",
        "import json"
      ]
    },
    {
      "cell_type": "code",
      "execution_count": 4,
      "metadata": {},
      "outputs": [],
      "source": [
        "#reed json file resources/blue_system/double_roles_map.json\n",
        "with open('../resources/blue_system/double_roles_map.json') as f:\n",
        "    double_roles_map = json.load(f)\n",
        "    \n",
        "BS_export_df = pd.read_csv('../preparing/data/STOCK-STATUS202407098.952568.TXT', sep='\\t', encoding='ascii', skiprows=2, dtype=str)\n",
        "\n",
        "\n"
      ]
    },
    {
      "cell_type": "code",
      "execution_count": 9,
      "metadata": {},
      "outputs": [
        {
          "name": "stdout",
          "output_type": "stream",
          "text": [
            "313\n",
            "312\n",
            "{'nan'}\n"
          ]
        }
      ],
      "source": [
        "# Сохранение массивов в переменные\n",
        "names = sorted(BS_export_df['NAME'].str.strip().astype(str).unique().tolist())\n",
        "keys = sorted([str(key) for key in double_roles_map.keys()])\n",
        "\n",
        "# Вывод длин массивов\n",
        "print(len(names))\n",
        "print(len(keys))\n",
        "\n",
        "# Вывод отличающихся элементов\n",
        "print(set(names) ^ set(keys))"
      ]
    }
  ],
  "metadata": {
    "kernelspec": {
      "display_name": "inv_venv",
      "language": "python",
      "name": "python3"
    },
    "language_info": {
      "codemirror_mode": {
        "name": "ipython",
        "version": 3
      },
      "file_extension": ".py",
      "mimetype": "text/x-python",
      "name": "python",
      "nbconvert_exporter": "python",
      "pygments_lexer": "ipython3",
      "version": "3.11.7"
    }
  },
  "nbformat": 4,
  "nbformat_minor": 2
}
